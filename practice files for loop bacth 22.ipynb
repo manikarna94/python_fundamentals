{
 "cells": [
  {
   "cell_type": "code",
   "execution_count": null,
   "metadata": {},
   "outputs": [],
   "source": [
    "#introduction for loop"
   ]
  },
  {
   "cell_type": "code",
   "execution_count": 2,
   "metadata": {},
   "outputs": [
    {
     "name": "stdout",
     "output_type": "stream",
     "text": [
      "['manu', 'kiran', 'charan', 'praneeth', 'sravani', 'hema', 'preethi']\n"
     ]
    }
   ],
   "source": [
    "bank_customers = ['manu','kiran','charan','praneeth','sravani','hema','preethi']\n",
    "print(bank_customers)"
   ]
  },
  {
   "cell_type": "code",
   "execution_count": null,
   "metadata": {},
   "outputs": [],
   "source": [
    "#greeting all the bank customeres"
   ]
  },
  {
   "cell_type": "code",
   "execution_count": null,
   "metadata": {},
   "outputs": [],
   "source": [
    "andra bank wishes you a very hpy sankrathi, manu"
   ]
  },
  {
   "cell_type": "code",
   "execution_count": null,
   "metadata": {},
   "outputs": [],
   "source": [
    "#regular way"
   ]
  },
  {
   "cell_type": "code",
   "execution_count": 6,
   "metadata": {},
   "outputs": [
    {
     "name": "stdout",
     "output_type": "stream",
     "text": [
      "andra bank wishes you a very hpy sankrathi,Manu\n"
     ]
    }
   ],
   "source": [
    "print(f\"andra bank wishes you a very hpy sankrathi,{bank_customers[0].title()}\")"
   ]
  },
  {
   "cell_type": "code",
   "execution_count": 7,
   "metadata": {},
   "outputs": [
    {
     "name": "stdout",
     "output_type": "stream",
     "text": [
      "andra bank wishes you a very hpy sankrathi,Kiran\n"
     ]
    }
   ],
   "source": [
    "print(f\"andra bank wishes you a very hpy sankrathi,{bank_customers[1].title()}\")"
   ]
  },
  {
   "cell_type": "code",
   "execution_count": 8,
   "metadata": {},
   "outputs": [
    {
     "name": "stdout",
     "output_type": "stream",
     "text": [
      "andra bank wishes you a very hpy sankrathi,Charan\n"
     ]
    }
   ],
   "source": [
    "print(f\"andra bank wishes you a very hpy sankrathi,{bank_customers[2].title()}\")"
   ]
  },
  {
   "cell_type": "code",
   "execution_count": 10,
   "metadata": {},
   "outputs": [
    {
     "name": "stdout",
     "output_type": "stream",
     "text": [
      "andra bank wishes you a very hpy sankrathi,Hema\n"
     ]
    }
   ],
   "source": [
    "print(f\"andra bank wishes you a very hpy sankrathi,{bank_customers[5].title()}\")"
   ]
  },
  {
   "cell_type": "code",
   "execution_count": 13,
   "metadata": {},
   "outputs": [
    {
     "name": "stdout",
     "output_type": "stream",
     "text": [
      "andra bank wishes you a very hpy sankrathi,Sravani\n"
     ]
    }
   ],
   "source": [
    "print(f\"andra bank wishes you a very hpy sankrathi,{bank_customers[4].title()}\")"
   ]
  },
  {
   "cell_type": "code",
   "execution_count": null,
   "metadata": {},
   "outputs": [],
   "source": [
    "# i want to send at a time wishes to all the bank customers"
   ]
  },
  {
   "cell_type": "code",
   "execution_count": 21,
   "metadata": {},
   "outputs": [
    {
     "name": "stdout",
     "output_type": "stream",
     "text": [
      "andra bank wishes you a very hpy sankrathi,preethi\n"
     ]
    }
   ],
   "source": [
    "print(f\"andra bank wishes you a very hpy sankrathi,{customers}\")"
   ]
  },
  {
   "cell_type": "code",
   "execution_count": null,
   "metadata": {},
   "outputs": [],
   "source": [
    "# i want to send at a time wishes to all the bank customers"
   ]
  },
  {
   "cell_type": "code",
   "execution_count": 20,
   "metadata": {},
   "outputs": [
    {
     "name": "stdout",
     "output_type": "stream",
     "text": [
      "andra bank wishes you a very hpy sankrathi,manu\n",
      "andra bank wishes you a very hpy sankrathi,kiran\n",
      "andra bank wishes you a very hpy sankrathi,charan\n",
      "andra bank wishes you a very hpy sankrathi,praneeth\n",
      "andra bank wishes you a very hpy sankrathi,sravani\n",
      "andra bank wishes you a very hpy sankrathi,hema\n",
      "andra bank wishes you a very hpy sankrathi,preethi\n"
     ]
    }
   ],
   "source": [
    "for customers in bank_customers:\n",
    " print(f\"andra bank wishes you a very hpy sankrathi,{customers}\")"
   ]
  },
  {
   "cell_type": "code",
   "execution_count": null,
   "metadata": {},
   "outputs": [],
   "source": [
    "#General syntax for a for loop "
   ]
  },
  {
   "cell_type": "code",
   "execution_count": 22,
   "metadata": {},
   "outputs": [
    {
     "ename": "SyntaxError",
     "evalue": "invalid syntax (<ipython-input-22-dec514328f5a>, line 1)",
     "output_type": "error",
     "traceback": [
      "\u001b[1;36m  File \u001b[1;32m\"<ipython-input-22-dec514328f5a>\"\u001b[1;36m, line \u001b[1;32m1\u001b[0m\n\u001b[1;33m    for tempvariable in mainvariable\u001b[0m\n\u001b[1;37m                                    ^\u001b[0m\n\u001b[1;31mSyntaxError\u001b[0m\u001b[1;31m:\u001b[0m invalid syntax\n"
     ]
    }
   ],
   "source": [
    "for tempvariable in mainvariable\n",
    " print(tempvar)"
   ]
  },
  {
   "cell_type": "code",
   "execution_count": 23,
   "metadata": {},
   "outputs": [
    {
     "name": "stdout",
     "output_type": "stream",
     "text": [
      "andra bank wishes you a very hpy sankrathi,manu\n",
      "andra bank wishes you a very hpy sankrathi,kiran\n",
      "andra bank wishes you a very hpy sankrathi,charan\n",
      "andra bank wishes you a very hpy sankrathi,praneeth\n",
      "andra bank wishes you a very hpy sankrathi,sravani\n",
      "andra bank wishes you a very hpy sankrathi,hema\n",
      "andra bank wishes you a very hpy sankrathi,preethi\n"
     ]
    }
   ],
   "source": [
    "for members in bank_customers:\n",
    "     print(f\"andra bank wishes you a very hpy sankrathi,{members}\")"
   ]
  },
  {
   "cell_type": "code",
   "execution_count": 24,
   "metadata": {},
   "outputs": [
    {
     "name": "stdout",
     "output_type": "stream",
     "text": [
      "andra bank wishes you a very hpy sankrathi,manu\n",
      "andra bank wishes you a very hpy sankrathi,kiran\n",
      "andra bank wishes you a very hpy sankrathi,charan\n",
      "andra bank wishes you a very hpy sankrathi,praneeth\n",
      "andra bank wishes you a very hpy sankrathi,sravani\n",
      "andra bank wishes you a very hpy sankrathi,hema\n",
      "andra bank wishes you a very hpy sankrathi,preethi\n"
     ]
    }
   ],
   "source": [
    "for names in bank_customers:\n",
    "     print(f\"andra bank wishes you a very hpy sankrathi,{names}\")"
   ]
  },
  {
   "cell_type": "code",
   "execution_count": 25,
   "metadata": {
    "scrolled": true
   },
   "outputs": [
    {
     "name": "stdout",
     "output_type": "stream",
     "text": [
      "andra bank wishes you a very hpy sankrathi,manu\n",
      "andra bank wishes you a very hpy sankrathi,kiran\n",
      "andra bank wishes you a very hpy sankrathi,charan\n",
      "andra bank wishes you a very hpy sankrathi,praneeth\n",
      "andra bank wishes you a very hpy sankrathi,sravani\n",
      "andra bank wishes you a very hpy sankrathi,hema\n",
      "andra bank wishes you a very hpy sankrathi,preethi\n"
     ]
    }
   ],
   "source": [
    "for x in bank_customers:\n",
    "     print(f\"andra bank wishes you a very hpy sankrathi,{x}\")"
   ]
  },
  {
   "cell_type": "code",
   "execution_count": 36,
   "metadata": {},
   "outputs": [
    {
     "name": "stdout",
     "output_type": "stream",
     "text": [
      "to all attending the seminar tomarow,['manu', 'kiran', 'charan', 'praneeth', 'sravani', 'hema', 'preethi']\n"
     ]
    }
   ],
   "source": [
    "class_mates = ['manu','kiran','charan','praneeth','sravani','hema','preethi']\n",
    "print(f\"to all attending the seminar tomarow,{class_mates}\")"
   ]
  },
  {
   "cell_type": "code",
   "execution_count": 38,
   "metadata": {},
   "outputs": [
    {
     "ename": "SyntaxError",
     "evalue": "invalid syntax (<ipython-input-38-dd759a696189>, line 1)",
     "output_type": "error",
     "traceback": [
      "\u001b[1;36m  File \u001b[1;32m\"<ipython-input-38-dd759a696189>\"\u001b[1;36m, line \u001b[1;32m1\u001b[0m\n\u001b[1;33m    for class_mates in class_mates\u001b[0m\n\u001b[1;37m                                  ^\u001b[0m\n\u001b[1;31mSyntaxError\u001b[0m\u001b[1;31m:\u001b[0m invalid syntax\n"
     ]
    }
   ],
   "source": [
    "for class_mates in class_mates\n",
    " print(f\"to all attending the seminar tomarow,{class_mates}\")"
   ]
  },
  {
   "cell_type": "code",
   "execution_count": null,
   "metadata": {},
   "outputs": [],
   "source": [
    "my_students = ['manu','kiran','charan','praneeth','sravani','hema','preethi']"
   ]
  },
  {
   "cell_type": "code",
   "execution_count": null,
   "metadata": {},
   "outputs": [],
   "source": [
    "#TO Require appericiaaate the students"
   ]
  },
  {
   "cell_type": "code",
   "execution_count": 49,
   "metadata": {},
   "outputs": [
    {
     "ename": "NameError",
     "evalue": "name 'my_students' is not defined",
     "output_type": "error",
     "traceback": [
      "\u001b[1;31m---------------------------------------------------------------------------\u001b[0m",
      "\u001b[1;31mNameError\u001b[0m                                 Traceback (most recent call last)",
      "\u001b[1;32m<ipython-input-49-58baaf645335>\u001b[0m in \u001b[0;36m<module>\u001b[1;34m\u001b[0m\n\u001b[1;32m----> 1\u001b[1;33m \u001b[1;32mfor\u001b[0m \u001b[0mstudent\u001b[0m \u001b[1;32min\u001b[0m \u001b[0mmy_students\u001b[0m\u001b[1;33m:\u001b[0m\u001b[1;33m\u001b[0m\u001b[1;33m\u001b[0m\u001b[0m\n\u001b[0m\u001b[0;32m      2\u001b[0m     \u001b[0mprint\u001b[0m\u001b[1;33m(\u001b[0m\u001b[1;34mf\"to all attending the seminar tomarow,{my_student}\"\u001b[0m\u001b[1;33m)\u001b[0m\u001b[1;33m\u001b[0m\u001b[1;33m\u001b[0m\u001b[0m\n",
      "\u001b[1;31mNameError\u001b[0m: name 'my_students' is not defined"
     ]
    }
   ],
   "source": [
    "for student in my_students:\n",
    "    print(f\"to all attending the seminar tomarow,{my_student}\")"
   ]
  },
  {
   "cell_type": "code",
   "execution_count": 52,
   "metadata": {},
   "outputs": [
    {
     "ename": "NameError",
     "evalue": "name 'my_students' is not defined",
     "output_type": "error",
     "traceback": [
      "\u001b[1;31m---------------------------------------------------------------------------\u001b[0m",
      "\u001b[1;31mNameError\u001b[0m                                 Traceback (most recent call last)",
      "\u001b[1;32m<ipython-input-52-d54b4e2e1adf>\u001b[0m in \u001b[0;36m<module>\u001b[1;34m\u001b[0m\n\u001b[1;32m----> 1\u001b[1;33m \u001b[1;32mfor\u001b[0m \u001b[0mstudent\u001b[0m \u001b[1;32min\u001b[0m \u001b[0mmy_students\u001b[0m\u001b[1;33m:\u001b[0m\u001b[1;33m\u001b[0m\u001b[1;33m\u001b[0m\u001b[0m\n\u001b[0m\u001b[0;32m      2\u001b[0m  \u001b[0mprint\u001b[0m\u001b[1;33m(\u001b[0m\u001b[1;34mf\"to all attending the seminar tomarow,{student}\"\u001b[0m\u001b[1;33m)\u001b[0m\u001b[1;33m\u001b[0m\u001b[1;33m\u001b[0m\u001b[0m\n",
      "\u001b[1;31mNameError\u001b[0m: name 'my_students' is not defined"
     ]
    }
   ],
   "source": [
    "for student in my_students:\n",
    " print(f\"to all attending the seminar tomarow,{student}\")"
   ]
  },
  {
   "cell_type": "code",
   "execution_count": 54,
   "metadata": {},
   "outputs": [
    {
     "ename": "NameError",
     "evalue": "name 'students' is not defined",
     "output_type": "error",
     "traceback": [
      "\u001b[1;31m---------------------------------------------------------------------------\u001b[0m",
      "\u001b[1;31mNameError\u001b[0m                                 Traceback (most recent call last)",
      "\u001b[1;32m<ipython-input-54-f61ab9ccf9e3>\u001b[0m in \u001b[0;36m<module>\u001b[1;34m\u001b[0m\n\u001b[0;32m      1\u001b[0m \u001b[0mmy_students\u001b[0m \u001b[1;33m=\u001b[0m \u001b[1;33m[\u001b[0m\u001b[1;34m'manu'\u001b[0m\u001b[1;33m,\u001b[0m\u001b[1;34m'kiran'\u001b[0m\u001b[1;33m,\u001b[0m\u001b[1;34m'charan'\u001b[0m\u001b[1;33m,\u001b[0m\u001b[1;34m'praneeth'\u001b[0m\u001b[1;33m,\u001b[0m\u001b[1;34m'sravani'\u001b[0m\u001b[1;33m,\u001b[0m\u001b[1;34m'hema'\u001b[0m\u001b[1;33m,\u001b[0m\u001b[1;34m'preethi'\u001b[0m\u001b[1;33m]\u001b[0m\u001b[1;33m\u001b[0m\u001b[1;33m\u001b[0m\u001b[0m\n\u001b[0;32m      2\u001b[0m \u001b[1;32mfor\u001b[0m \u001b[0mstudent\u001b[0m \u001b[1;32min\u001b[0m \u001b[0mmy_students\u001b[0m\u001b[1;33m:\u001b[0m\u001b[1;33m\u001b[0m\u001b[1;33m\u001b[0m\u001b[0m\n\u001b[1;32m----> 3\u001b[1;33m     \u001b[0mprint\u001b[0m\u001b[1;33m(\u001b[0m\u001b[0mstudents\u001b[0m\u001b[1;33m)\u001b[0m\u001b[1;33m\u001b[0m\u001b[1;33m\u001b[0m\u001b[0m\n\u001b[0m",
      "\u001b[1;31mNameError\u001b[0m: name 'students' is not defined"
     ]
    }
   ],
   "source": []
  },
  {
   "cell_type": "code",
   "execution_count": null,
   "metadata": {},
   "outputs": [],
   "source": [
    "my_students = ['manu','kiran','charan','praneeth','sravani','hema','preethi']"
   ]
  },
  {
   "cell_type": "code",
   "execution_count": 55,
   "metadata": {},
   "outputs": [
    {
     "ename": "NameError",
     "evalue": "name 'my_student' is not defined",
     "output_type": "error",
     "traceback": [
      "\u001b[1;31m---------------------------------------------------------------------------\u001b[0m",
      "\u001b[1;31mNameError\u001b[0m                                 Traceback (most recent call last)",
      "\u001b[1;32m<ipython-input-55-64c1b93b0df3>\u001b[0m in \u001b[0;36m<module>\u001b[1;34m\u001b[0m\n\u001b[1;32m----> 1\u001b[1;33m \u001b[1;32mfor\u001b[0m \u001b[0mstudent\u001b[0m \u001b[1;32min\u001b[0m \u001b[0mmy_student\u001b[0m\u001b[1;33m:\u001b[0m\u001b[1;33m\u001b[0m\u001b[1;33m\u001b[0m\u001b[0m\n\u001b[0m\u001b[0;32m      2\u001b[0m     \u001b[0mprint\u001b[0m\u001b[1;33m(\u001b[0m\u001b[0mstudents\u001b[0m\u001b[1;33m)\u001b[0m\u001b[1;33m\u001b[0m\u001b[1;33m\u001b[0m\u001b[0m\n",
      "\u001b[1;31mNameError\u001b[0m: name 'my_student' is not defined"
     ]
    }
   ],
   "source": [
    "for student in my_student:\n",
    "    print(students)"
   ]
  },
  {
   "cell_type": "code",
   "execution_count": null,
   "metadata": {},
   "outputs": [],
   "source": [
    "my_students = ['manu','kiran','charan','praneeth','sravani','hema','preethi']"
   ]
  },
  {
   "cell_type": "code",
   "execution_count": 56,
   "metadata": {},
   "outputs": [
    {
     "name": "stdout",
     "output_type": "stream",
     "text": [
      "keep up the good work,manu\n",
      "keep up the good work,kiran\n",
      "keep up the good work,charan\n",
      "keep up the good work,praneeth\n",
      "keep up the good work,sravani\n",
      "keep up the good work,hema\n",
      "keep up the good work,preethi\n"
     ]
    }
   ],
   "source": [
    "for students in my_students:\n",
    "    print(f\"keep up the good work,{students}\")"
   ]
  },
  {
   "cell_type": "code",
   "execution_count": 57,
   "metadata": {},
   "outputs": [
    {
     "name": "stdout",
     "output_type": "stream",
     "text": [
      "keep up the good work,Manu\n",
      "keep up the good work,Kiran\n",
      "keep up the good work,Charan\n",
      "keep up the good work,Praneeth\n",
      "keep up the good work,Sravani\n",
      "keep up the good work,Hema\n",
      "keep up the good work,Preethi\n"
     ]
    }
   ],
   "source": [
    "for students in my_students:\n",
    "    print(f\"keep up the good work,{students.title()}\")"
   ]
  },
  {
   "cell_type": "code",
   "execution_count": 58,
   "metadata": {},
   "outputs": [
    {
     "name": "stdout",
     "output_type": "stream",
     "text": [
      "keep up the good work,Manu\n",
      "keep up the good work,Kiran\n",
      "keep up the good work,Charan\n",
      "keep up the good work,Praneeth\n",
      "keep up the good work,Sravani\n",
      "keep up the good work,Hema\n",
      "keep up the good work,Preethi\n"
     ]
    }
   ],
   "source": [
    "for y in my_students:\n",
    "    print(f\"keep up the good work,{y.title()}\")"
   ]
  },
  {
   "cell_type": "code",
   "execution_count": null,
   "metadata": {},
   "outputs": [],
   "source": [
    "#add another requirement"
   ]
  },
  {
   "cell_type": "code",
   "execution_count": null,
   "metadata": {},
   "outputs": [],
   "source": [
    " i am waiting for the to take extra class today"
   ]
  },
  {
   "cell_type": "code",
   "execution_count": 59,
   "metadata": {},
   "outputs": [
    {
     "name": "stdout",
     "output_type": "stream",
     "text": [
      "keep up the good work,Manu\n",
      " i am waiting for the to take extra class today,manu\n",
      "keep up the good work,Kiran\n",
      " i am waiting for the to take extra class today,kiran\n",
      "keep up the good work,Charan\n",
      " i am waiting for the to take extra class today,charan\n",
      "keep up the good work,Praneeth\n",
      " i am waiting for the to take extra class today,praneeth\n",
      "keep up the good work,Sravani\n",
      " i am waiting for the to take extra class today,sravani\n",
      "keep up the good work,Hema\n",
      " i am waiting for the to take extra class today,hema\n",
      "keep up the good work,Preethi\n",
      " i am waiting for the to take extra class today,preethi\n"
     ]
    }
   ],
   "source": [
    "for y in my_students:\n",
    "    print(f\"keep up the good work,{y.title()}\")\n",
    "    print(f\" i am waiting for the to take extra class today,{y}\")"
   ]
  },
  {
   "cell_type": "code",
   "execution_count": null,
   "metadata": {},
   "outputs": [],
   "source": [
    "# for give extra gap b/w lines you can use \\n"
   ]
  },
  {
   "cell_type": "code",
   "execution_count": 60,
   "metadata": {},
   "outputs": [
    {
     "name": "stdout",
     "output_type": "stream",
     "text": [
      "keep up the good work,Manu\n",
      " i am waiting for the to take extra class today,manu.\n",
      "\n",
      "keep up the good work,Kiran\n",
      " i am waiting for the to take extra class today,kiran.\n",
      "\n",
      "keep up the good work,Charan\n",
      " i am waiting for the to take extra class today,charan.\n",
      "\n",
      "keep up the good work,Praneeth\n",
      " i am waiting for the to take extra class today,praneeth.\n",
      "\n",
      "keep up the good work,Sravani\n",
      " i am waiting for the to take extra class today,sravani.\n",
      "\n",
      "keep up the good work,Hema\n",
      " i am waiting for the to take extra class today,hema.\n",
      "\n",
      "keep up the good work,Preethi\n",
      " i am waiting for the to take extra class today,preethi.\n",
      "\n"
     ]
    }
   ],
   "source": [
    "for y in my_students:\n",
    "    print(f\"keep up the good work,{y.title()}\")\n",
    "    print(f\" i am waiting for the to take extra class today,{y}.\\n\")"
   ]
  },
  {
   "cell_type": "code",
   "execution_count": null,
   "metadata": {},
   "outputs": [],
   "source": []
  },
  {
   "cell_type": "code",
   "execution_count": null,
   "metadata": {},
   "outputs": [],
   "source": []
  },
  {
   "cell_type": "code",
   "execution_count": null,
   "metadata": {},
   "outputs": [],
   "source": []
  },
  {
   "cell_type": "code",
   "execution_count": null,
   "metadata": {},
   "outputs": [],
   "source": []
  },
  {
   "cell_type": "code",
   "execution_count": null,
   "metadata": {},
   "outputs": [],
   "source": []
  },
  {
   "cell_type": "code",
   "execution_count": null,
   "metadata": {},
   "outputs": [],
   "source": []
  },
  {
   "cell_type": "code",
   "execution_count": null,
   "metadata": {},
   "outputs": [],
   "source": []
  },
  {
   "cell_type": "code",
   "execution_count": null,
   "metadata": {},
   "outputs": [],
   "source": []
  },
  {
   "cell_type": "code",
   "execution_count": null,
   "metadata": {},
   "outputs": [],
   "source": []
  },
  {
   "cell_type": "code",
   "execution_count": null,
   "metadata": {},
   "outputs": [],
   "source": []
  },
  {
   "cell_type": "code",
   "execution_count": null,
   "metadata": {},
   "outputs": [],
   "source": []
  },
  {
   "cell_type": "code",
   "execution_count": null,
   "metadata": {},
   "outputs": [],
   "source": []
  },
  {
   "cell_type": "code",
   "execution_count": null,
   "metadata": {},
   "outputs": [],
   "source": []
  },
  {
   "cell_type": "code",
   "execution_count": null,
   "metadata": {},
   "outputs": [],
   "source": []
  },
  {
   "cell_type": "code",
   "execution_count": null,
   "metadata": {},
   "outputs": [],
   "source": []
  },
  {
   "cell_type": "code",
   "execution_count": null,
   "metadata": {},
   "outputs": [],
   "source": []
  },
  {
   "cell_type": "code",
   "execution_count": null,
   "metadata": {},
   "outputs": [],
   "source": []
  }
 ],
 "metadata": {
  "kernelspec": {
   "display_name": "Python 3",
   "language": "python",
   "name": "python3"
  },
  "language_info": {
   "codemirror_mode": {
    "name": "ipython",
    "version": 3
   },
   "file_extension": ".py",
   "mimetype": "text/x-python",
   "name": "python",
   "nbconvert_exporter": "python",
   "pygments_lexer": "ipython3",
   "version": "3.7.6"
  }
 },
 "nbformat": 4,
 "nbformat_minor": 4
}
